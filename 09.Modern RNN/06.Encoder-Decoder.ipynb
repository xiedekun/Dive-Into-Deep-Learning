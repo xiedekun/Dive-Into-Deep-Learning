{
 "cells": [
  {
   "cell_type": "code",
   "execution_count": 1,
   "id": "617fd0dd",
   "metadata": {
    "ExecuteTime": {
     "end_time": "2022-05-23T12:27:26.769559Z",
     "start_time": "2022-05-23T12:27:24.992492Z"
    }
   },
   "outputs": [],
   "source": [
    "from torch import nn"
   ]
  },
  {
   "cell_type": "markdown",
   "id": "e322843d",
   "metadata": {},
   "source": [
    "编码器"
   ]
  },
  {
   "cell_type": "code",
   "execution_count": 3,
   "id": "ce24f300",
   "metadata": {
    "ExecuteTime": {
     "end_time": "2022-05-23T12:27:41.397455Z",
     "start_time": "2022-05-23T12:27:41.390100Z"
    }
   },
   "outputs": [],
   "source": [
    "class Encoder(nn.Module):\n",
    "    '''编码器-解码器架构的基本编码器接口'''\n",
    "    def __init__(self, **kwargs):\n",
    "        super(Encoder, self).__init__(**kwargs)\n",
    "        \n",
    "    def forward(self, X, *args):\n",
    "        raise NotImplementedError"
   ]
  },
  {
   "cell_type": "markdown",
   "id": "6e8b8a36",
   "metadata": {
    "ExecuteTime": {
     "end_time": "2022-05-23T12:27:44.386234Z",
     "start_time": "2022-05-23T12:27:44.374729Z"
    }
   },
   "source": [
    "解码器"
   ]
  },
  {
   "cell_type": "code",
   "execution_count": 6,
   "id": "4963b1f5",
   "metadata": {
    "ExecuteTime": {
     "end_time": "2022-05-23T12:29:54.882628Z",
     "start_time": "2022-05-23T12:29:54.872931Z"
    }
   },
   "outputs": [],
   "source": [
    "class Decoder(nn.Module):\n",
    "    '''编码器-解码器架构的基本解码器接口'''\n",
    "    def __init__(self, **kwargs):\n",
    "        super(Decoder, self).__init__(**kwargs)\n",
    "\n",
    "    def init_state(self, enc_outputs, *args):\n",
    "        raise NotImplementedError\n",
    "\n",
    "    def forward(self, X, state):\n",
    "        raise NotImplementedError"
   ]
  },
  {
   "cell_type": "markdown",
   "id": "1107b3b9",
   "metadata": {},
   "source": [
    "合并编码器和解码器"
   ]
  },
  {
   "cell_type": "code",
   "execution_count": 7,
   "id": "4d57199c",
   "metadata": {
    "ExecuteTime": {
     "end_time": "2022-05-23T12:32:27.763868Z",
     "start_time": "2022-05-23T12:32:27.749916Z"
    }
   },
   "outputs": [],
   "source": [
    "class EncoderDecoder(nn.Module):\n",
    "    '''编码器-解码器架构的基类'''\n",
    "    def __init__(self, encoder, decoder, **kwargs):\n",
    "        super(EncoderDecoder, self).__init__(**kwargs)\n",
    "        self.encoder = encoder\n",
    "        self.decoder = decoder\n",
    "        \n",
    "    def forward(self, enc_X, dec_X, *args):\n",
    "        enc_outputs = self.encoder(enc_X, *args)\n",
    "        dec_state = self.decoder.init_state(enc_outputs, *args)\n",
    "        return self.decoder(dec_X, dec_state)"
   ]
  }
 ],
 "metadata": {
  "kernelspec": {
   "display_name": "Python 3",
   "language": "python",
   "name": "python3"
  },
  "language_info": {
   "codemirror_mode": {
    "name": "ipython",
    "version": 3
   },
   "file_extension": ".py",
   "mimetype": "text/x-python",
   "name": "python",
   "nbconvert_exporter": "python",
   "pygments_lexer": "ipython3",
   "version": "3.8.8"
  }
 },
 "nbformat": 4,
 "nbformat_minor": 5
}
