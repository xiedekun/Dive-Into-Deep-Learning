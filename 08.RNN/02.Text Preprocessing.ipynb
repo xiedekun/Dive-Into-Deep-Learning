{
 "cells": [
  {
   "cell_type": "markdown",
   "id": "fa09d12f",
   "metadata": {},
   "source": [
    "## 文本预处理"
   ]
  },
  {
   "cell_type": "code",
   "execution_count": 1,
   "id": "959ee06f",
   "metadata": {
    "ExecuteTime": {
     "end_time": "2022-05-05T09:44:18.851716Z",
     "start_time": "2022-05-05T09:44:12.704674Z"
    }
   },
   "outputs": [],
   "source": [
    "import collections \n",
    "import re\n",
    "from d2l import torch as d2l"
   ]
  },
  {
   "cell_type": "code",
   "execution_count": 3,
   "id": "a79cc0c6",
   "metadata": {
    "ExecuteTime": {
     "end_time": "2022-05-05T09:45:26.553220Z",
     "start_time": "2022-05-05T09:45:25.576260Z"
    }
   },
   "outputs": [
    {
     "name": "stdout",
     "output_type": "stream",
     "text": [
      "Downloading ..\\data\\timemachine.txt from http://d2l-data.s3-accelerate.amazonaws.com/timemachine.txt...\n",
      "# 文本总行数: 3221\n",
      "the time machine by h g wells\n",
      "twinkled and his usually pale face was flushed and animated the\n"
     ]
    }
   ],
   "source": [
    "d2l.DATA_HUB['time_machine'] = (d2l.DATA_URL + 'timemachine.txt',\n",
    "                                '090b5e7e70c295757f55df93cb0a180b9691891a')\n",
    "\n",
    "def read_time_machine():  #@save\n",
    "    \"\"\"将时间机器数据集加载到文本行的列表中\"\"\"\n",
    "    with open(d2l.download('time_machine'), 'r') as f:\n",
    "        lines = f.readlines()\n",
    "    return [re.sub('[^A-Za-z]+', ' ', line).strip().lower() for line in lines]\n",
    "\n",
    "lines = read_time_machine()\n",
    "print(f'# 文本总行数: {len(lines)}')\n",
    "print(lines[0])\n",
    "print(lines[10])"
   ]
  },
  {
   "cell_type": "markdown",
   "id": "2948c8ab",
   "metadata": {},
   "source": [
    "词元化"
   ]
  },
  {
   "cell_type": "code",
   "execution_count": 26,
   "id": "afbc9a3f",
   "metadata": {
    "ExecuteTime": {
     "end_time": "2022-05-05T14:34:39.482674Z",
     "start_time": "2022-05-05T14:34:39.468671Z"
    }
   },
   "outputs": [
    {
     "name": "stdout",
     "output_type": "stream",
     "text": [
      "['the', 'time', 'machine', 'by', 'h', 'g', 'wells']\n",
      "[]\n",
      "[]\n",
      "[]\n",
      "[]\n",
      "['i']\n",
      "[]\n",
      "[]\n",
      "['the', 'time', 'traveller', 'for', 'so', 'it', 'will', 'be', 'convenient', 'to', 'speak', 'of', 'him']\n",
      "['was', 'expounding', 'a', 'recondite', 'matter', 'to', 'us', 'his', 'grey', 'eyes', 'shone', 'and']\n",
      "['twinkled', 'and', 'his', 'usually', 'pale', 'face', 'was', 'flushed', 'and', 'animated', 'the']\n"
     ]
    }
   ],
   "source": [
    "def tokenize(lines, token='word'):\n",
    "    if token=='word':\n",
    "        return [line.split() for line in lines]\n",
    "    elif token=='char':\n",
    "        return [list(line) for line in lines]\n",
    "    else:\n",
    "        print('错误：未知词元类型：' + token)\n",
    "\n",
    "tokens = tokenize(lines)\n",
    "for i in range(11):\n",
    "    print(tokens[i])"
   ]
  },
  {
   "cell_type": "markdown",
   "id": "c8a849c3",
   "metadata": {},
   "source": [
    "构建一个字典，通常也叫做词表（vocabulary）"
   ]
  },
  {
   "cell_type": "code",
   "execution_count": 18,
   "id": "a104afce",
   "metadata": {
    "ExecuteTime": {
     "end_time": "2022-05-05T14:29:41.174176Z",
     "start_time": "2022-05-05T14:29:41.152174Z"
    }
   },
   "outputs": [],
   "source": [
    "class Vocab:\n",
    "    '''文本词表'''\n",
    "    def __init__(self, token=None, min_freq=0, reversed_tokens=None):\n",
    "        if token is None:\n",
    "            tokens = []\n",
    "        if reversed_tokens is None:\n",
    "            reversed_tokens = []\n",
    "        # 按照出现频率排序\n",
    "        counter = count_corpus(token)\n",
    "        self._token_freqs = sorted(counter.items(), key=lambda x: x[1], \n",
    "                                  reverse=True)\n",
    "        # 未知词元的索引为0\n",
    "        self.idx_to_token = ['<unk>'] + reversed_tokens\n",
    "        self.token_to_idx = {token: idx\n",
    "                            for idx, token in enumerate(self.idx_to_token)}\n",
    "        \n",
    "        for token, freq in self._token_freqs:\n",
    "            if freq < min_freq:\n",
    "                break\n",
    "            if token not in self.token_to_idx:\n",
    "                self.idx_to_token.append(token)\n",
    "                self.token_to_idx[token] = len(self.idx_to_token) - 1\n",
    "        \n",
    "    def __len__(self):\n",
    "        return len(self.idx_to_token)\n",
    "\n",
    "    def __getitem__(self, tokens):\n",
    "        if not isinstance(tokens, (list, tuple)):\n",
    "            return self.token_to_idx.get(tokens, self.unk)\n",
    "        return [self.__getitem__(token) for token in tokens]\n",
    "\n",
    "    def to_tokens(self, indice):\n",
    "        if not isinstance(indices, (list, tuple)):\n",
    "            return self.idx_to_token[indices]\n",
    "        return [self.idx_to_token[index] for index in indices]\n",
    "\n",
    "    @property\n",
    "    def unk(self):\n",
    "        return 0\n",
    "\n",
    "    @property\n",
    "    def token_to_freqs(self):\n",
    "        return self._token_freqs\n",
    "            \n",
    "def count_corpus(tokens):\n",
    "    '''统计词元频率'''\n",
    "    # Token是1D或者2D 列表\n",
    "    if len(tokens) == 0 or isinstance(tokens[0], list):\n",
    "        # 将词元表展平成列表\n",
    "        tokens = [token for line in tokens for token in line]\n",
    "    return collections.Counter(tokens)"
   ]
  },
  {
   "cell_type": "code",
   "execution_count": 21,
   "id": "6a03f215",
   "metadata": {
    "ExecuteTime": {
     "end_time": "2022-05-05T14:30:16.680821Z",
     "start_time": "2022-05-05T14:30:16.645321Z"
    }
   },
   "outputs": [
    {
     "name": "stdout",
     "output_type": "stream",
     "text": [
      "[('<unk>', 0), ('the', 1), ('i', 2), ('and', 3), ('of', 4), ('a', 5), ('to', 6), ('was', 7), ('in', 8), ('that', 9)]\n"
     ]
    }
   ],
   "source": [
    "vocab = Vocab(tokens)\n",
    "print(list(vocab.token_to_idx.items())[:10])"
   ]
  },
  {
   "cell_type": "code",
   "execution_count": 22,
   "id": "03c7405e",
   "metadata": {
    "ExecuteTime": {
     "end_time": "2022-05-05T14:30:17.557819Z",
     "start_time": "2022-05-05T14:30:17.548319Z"
    }
   },
   "outputs": [
    {
     "name": "stdout",
     "output_type": "stream",
     "text": [
      "文本 ['the', 'time', 'machine', 'by', 'h', 'g', 'wells']\n",
      "索引 [1, 19, 50, 40, 2183, 2184, 400]\n",
      "文本 ['twinkled', 'and', 'his', 'usually', 'pale', 'face', 'was', 'flushed', 'and', 'animated', 'the']\n",
      "索引 [2186, 3, 25, 1044, 362, 113, 7, 1421, 3, 1045, 1]\n"
     ]
    }
   ],
   "source": [
    "for i in [0, 10]:\n",
    "    print('文本', tokens[i])\n",
    "    print('索引', vocab.__getitem__(tokens[i]))"
   ]
  },
  {
   "cell_type": "markdown",
   "id": "523dfec0",
   "metadata": {
    "ExecuteTime": {
     "end_time": "2022-05-05T14:32:19.151981Z",
     "start_time": "2022-05-05T14:32:19.070985Z"
    }
   },
   "source": [
    "整合功能"
   ]
  },
  {
   "cell_type": "code",
   "execution_count": 27,
   "id": "58bbdc56",
   "metadata": {
    "ExecuteTime": {
     "end_time": "2022-05-05T14:36:39.739798Z",
     "start_time": "2022-05-05T14:36:39.586757Z"
    }
   },
   "outputs": [
    {
     "data": {
      "text/plain": [
       "(170580, 28)"
      ]
     },
     "execution_count": 27,
     "metadata": {},
     "output_type": "execute_result"
    }
   ],
   "source": [
    "def load_corpus_time_machine(max_tokens=-1):\n",
    "    '''返回时光机器数据集的词元索引列表和词表'''\n",
    "    lines = read_time_machine()\n",
    "    tokens = tokenize(lines, 'char')\n",
    "    vocab = Vocab(tokens)\n",
    "    # 展平\n",
    "    corpus = [vocab[token] for line in tokens for token in line]\n",
    "    if max_tokens > 0:\n",
    "        corpus = corpus[: max_tokens]\n",
    "    return corpus, vocab\n",
    "\n",
    "corpus, vocab = load_corpus_time_machine()\n",
    "len(corpus), len(vocab)"
   ]
  }
 ],
 "metadata": {
  "kernelspec": {
   "display_name": "Python 3",
   "language": "python",
   "name": "python3"
  },
  "language_info": {
   "codemirror_mode": {
    "name": "ipython",
    "version": 3
   },
   "file_extension": ".py",
   "mimetype": "text/x-python",
   "name": "python",
   "nbconvert_exporter": "python",
   "pygments_lexer": "ipython3",
   "version": "3.8.8"
  }
 },
 "nbformat": 4,
 "nbformat_minor": 5
}
