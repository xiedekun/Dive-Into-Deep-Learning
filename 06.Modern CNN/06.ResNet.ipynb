{
 "cells": [
  {
   "cell_type": "code",
   "execution_count": 2,
   "id": "b29e996a",
   "metadata": {
    "ExecuteTime": {
     "end_time": "2022-03-25T10:51:35.337698Z",
     "start_time": "2022-03-25T10:51:33.034649Z"
    }
   },
   "outputs": [],
   "source": [
    "import torch\n",
    "from torch import nn\n",
    "from d2l import torch as d2l\n",
    "from torch.nn import functional as F\n",
    "\n",
    "class Residual(nn.Module):\n",
    "    def __init__(self, input_channels, num_channels, use_1x1conv=False, stride=1):\n",
    "        super().__init__()\n",
    "        self.conv1 = nn.Conv2d(input_channels,  num_channels, \n",
    "                               kernel_size=3, padding=1, stride=stride)\n",
    "        self.conv2 = nn.Conv2d(num_channels,  num_channels, \n",
    "                               kernel_size=3, padding=1)\n",
    "        if use_1x1conv:\n",
    "            self.conv3 = nn.Conv2d(input_channels,  num_channels, \n",
    "                                   kernel_size=1, stride=stride)  \n",
    "        else:\n",
    "            self.conv3 = None\n",
    "        self.bn1 = nn.BatchNorm2d(num_channels)\n",
    "        self.bn2 = nn.BatchNorm2d(num_channels)\n",
    "        self.ReLU = nn.ReLU(inplace=True) # inplace 省内存\n",
    "        \n",
    "    def forward(self, X):\n",
    "        Y = F.relu(self.bn1(self.conv1(X)))\n",
    "        Y = self.bn2(self.conv2(Y))\n",
    "        if self.conv3:\n",
    "            X = self.conv3(X)\n",
    "        Y += X\n",
    "        return F.relu(Y)"
   ]
  },
  {
   "cell_type": "markdown",
   "id": "2ed18c95",
   "metadata": {},
   "source": [
    "输出输入形状一致"
   ]
  },
  {
   "cell_type": "code",
   "execution_count": 3,
   "id": "a4eb39ed",
   "metadata": {
    "ExecuteTime": {
     "end_time": "2022-03-25T10:51:36.336974Z",
     "start_time": "2022-03-25T10:51:36.319682Z"
    }
   },
   "outputs": [
    {
     "data": {
      "text/plain": [
       "torch.Size([4, 3, 6, 6])"
      ]
     },
     "execution_count": 3,
     "metadata": {},
     "output_type": "execute_result"
    }
   ],
   "source": [
    "blk = Residual(3, 3)\n",
    "X = torch.rand(4, 3, 6, 6)\n",
    "Y = blk(X)\n",
    "Y.shape"
   ]
  },
  {
   "cell_type": "markdown",
   "id": "86b7fb49",
   "metadata": {},
   "source": [
    "增加输出通道数同时，减半输出的高宽"
   ]
  },
  {
   "cell_type": "code",
   "execution_count": 4,
   "id": "c9d2be68",
   "metadata": {
    "ExecuteTime": {
     "end_time": "2022-03-25T10:51:39.822631Z",
     "start_time": "2022-03-25T10:51:39.806079Z"
    }
   },
   "outputs": [
    {
     "data": {
      "text/plain": [
       "torch.Size([4, 6, 3, 3])"
      ]
     },
     "execution_count": 4,
     "metadata": {},
     "output_type": "execute_result"
    }
   ],
   "source": [
    "blk = Residual(3, 6, use_1x1conv=True, stride=2)\n",
    "blk(X).shape"
   ]
  },
  {
   "cell_type": "markdown",
   "id": "df2c12f8",
   "metadata": {},
   "source": [
    "ResNet模型"
   ]
  },
  {
   "cell_type": "code",
   "execution_count": 5,
   "id": "98dc512a",
   "metadata": {
    "ExecuteTime": {
     "end_time": "2022-03-25T10:53:12.754307Z",
     "start_time": "2022-03-25T10:53:12.745810Z"
    }
   },
   "outputs": [],
   "source": [
    "b1 = nn.Sequential(nn.Conv2d(1, 64, kernel_size=7, stride=2, padding=3),\n",
    "                   nn.BatchNorm2d(64), nn.ReLU(),\n",
    "                   nn.MaxPool2d(kernel_size=3, stride=2, padding=1))"
   ]
  },
  {
   "cell_type": "code",
   "execution_count": 6,
   "id": "423e8beb",
   "metadata": {
    "ExecuteTime": {
     "end_time": "2022-03-25T10:59:57.762608Z",
     "start_time": "2022-03-25T10:59:57.613282Z"
    }
   },
   "outputs": [],
   "source": [
    "def resnet_block(input_channels, num_channels, num_residuals, first_block=False):\n",
    "    blk = []\n",
    "    for i in range(num_residuals):\n",
    "        if i==0 and not first_block:\n",
    "            blk.append(\n",
    "                Residual(input_channels, num_channels, use_1x1conv=True, stride=2))\n",
    "        else:\n",
    "            blk.append(Residual(num_channels, num_channels))\n",
    "    return blk\n",
    "\n",
    "b2 = nn.Sequential(*resnet_block(64, 64, 2, first_block=True))\n",
    "b3 = nn.Sequential(*resnet_block(64, 128, 2))\n",
    "b4 = nn.Sequential(*resnet_block(128, 256, 2))\n",
    "b5 = nn.Sequential(*resnet_block(256, 512, 2))"
   ]
  },
  {
   "cell_type": "code",
   "execution_count": 7,
   "id": "36c3d5a1",
   "metadata": {
    "ExecuteTime": {
     "end_time": "2022-03-25T11:03:22.056348Z",
     "start_time": "2022-03-25T11:03:22.022429Z"
    }
   },
   "outputs": [],
   "source": [
    "net = nn.Sequential(b1, b2, b3, b4, b5,\n",
    "                    nn.AdaptiveAvgPool2d((1,1)),\n",
    "                    nn.Flatten(), nn.Linear(512, 10))"
   ]
  },
  {
   "cell_type": "code",
   "execution_count": 8,
   "id": "a815cb59",
   "metadata": {
    "ExecuteTime": {
     "end_time": "2022-03-25T11:04:35.541386Z",
     "start_time": "2022-03-25T11:04:35.057888Z"
    }
   },
   "outputs": [
    {
     "name": "stdout",
     "output_type": "stream",
     "text": [
      "Sequential output shape:\t torch.Size([1, 64, 56, 56])\n",
      "Sequential output shape:\t torch.Size([1, 64, 56, 56])\n",
      "Sequential output shape:\t torch.Size([1, 128, 28, 28])\n",
      "Sequential output shape:\t torch.Size([1, 256, 14, 14])\n",
      "Sequential output shape:\t torch.Size([1, 512, 7, 7])\n",
      "AdaptiveAvgPool2d output shape:\t torch.Size([1, 512, 1, 1])\n",
      "Flatten output shape:\t torch.Size([1, 512])\n",
      "Linear output shape:\t torch.Size([1, 10])\n"
     ]
    }
   ],
   "source": [
    "X = torch.rand(size=(1, 1, 224, 224))\n",
    "for layer in net:\n",
    "    X = layer(X)\n",
    "    print(layer.__class__.__name__,'output shape:\\t', X.shape)"
   ]
  },
  {
   "cell_type": "code",
   "execution_count": null,
   "id": "1b7cdf75",
   "metadata": {},
   "outputs": [],
   "source": [
    "lr, num_epochs, batch_size = 0.05, 10, 256\n",
    "train_iter, test_iter = d2l.load_data_fashion_mnist(batch_size, resize=96)\n",
    "d2l.train_ch6(net, train_iter, test_iter, num_epochs, lr, d2l.try_gpu())"
   ]
  }
 ],
 "metadata": {
  "kernelspec": {
   "display_name": "Python 3",
   "language": "python",
   "name": "python3"
  },
  "language_info": {
   "codemirror_mode": {
    "name": "ipython",
    "version": 3
   },
   "file_extension": ".py",
   "mimetype": "text/x-python",
   "name": "python",
   "nbconvert_exporter": "python",
   "pygments_lexer": "ipython3",
   "version": "3.8.8"
  }
 },
 "nbformat": 4,
 "nbformat_minor": 5
}
